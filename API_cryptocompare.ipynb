{
 "cells": [
  {
   "cell_type": "code",
   "execution_count": 6,
   "metadata": {},
   "outputs": [],
   "source": [
    "import requests\n",
    "import pandas as pd\n",
    "\n",
    "apiKey = \"cc1e2bcfb0fe01ae2f7a56b4e4eef366ab52479eb36dcb330b08221992cb5e3c\""
   ]
  },
  {
   "cell_type": "code",
   "execution_count": 7,
   "metadata": {},
   "outputs": [],
   "source": [
    "payload = {\n",
    "    \"api_key\": apiKey,\n",
    "#     \"fsym\": \"BTC\",\n",
    "#     \"tsyms\": \"USD\"\n",
    "}"
   ]
  },
  {
   "cell_type": "code",
   "execution_count": 8,
   "metadata": {},
   "outputs": [],
   "source": [
    "url = \"https://min-api.cryptocompare.com/data/histohour?fsym=BTC&tsym=USD&allData=true\"\n",
    "f = requests.get(url, params=payload)\n",
    "ipdata = f.json()\n",
    "df = pd.DataFrame(ipdata['Data'])"
   ]
  },
  {
   "cell_type": "code",
   "execution_count": 9,
   "metadata": {},
   "outputs": [
    {
     "data": {
      "text/plain": [
       "(169, 7)"
      ]
     },
     "execution_count": 9,
     "metadata": {},
     "output_type": "execute_result"
    }
   ],
   "source": [
    "df.shape"
   ]
  },
  {
   "cell_type": "code",
   "execution_count": 4,
   "metadata": {},
   "outputs": [
    {
     "data": {
      "text/html": [
       "<div>\n",
       "<style scoped>\n",
       "    .dataframe tbody tr th:only-of-type {\n",
       "        vertical-align: middle;\n",
       "    }\n",
       "\n",
       "    .dataframe tbody tr th {\n",
       "        vertical-align: top;\n",
       "    }\n",
       "\n",
       "    .dataframe thead th {\n",
       "        text-align: right;\n",
       "    }\n",
       "</style>\n",
       "<table border=\"1\" class=\"dataframe\">\n",
       "  <thead>\n",
       "    <tr style=\"text-align: right;\">\n",
       "      <th></th>\n",
       "      <th>close</th>\n",
       "      <th>high</th>\n",
       "      <th>low</th>\n",
       "      <th>open</th>\n",
       "      <th>time</th>\n",
       "      <th>volumefrom</th>\n",
       "      <th>volumeto</th>\n",
       "    </tr>\n",
       "  </thead>\n",
       "  <tbody>\n",
       "    <tr>\n",
       "      <th>164</th>\n",
       "      <td>3879.34</td>\n",
       "      <td>3879.68</td>\n",
       "      <td>3866.28</td>\n",
       "      <td>3869.79</td>\n",
       "      <td>1551888000</td>\n",
       "      <td>1288.11</td>\n",
       "      <td>4964807.57</td>\n",
       "    </tr>\n",
       "    <tr>\n",
       "      <th>165</th>\n",
       "      <td>3869.56</td>\n",
       "      <td>3879.34</td>\n",
       "      <td>3867.50</td>\n",
       "      <td>3879.34</td>\n",
       "      <td>1551891600</td>\n",
       "      <td>1128.98</td>\n",
       "      <td>4359140.48</td>\n",
       "    </tr>\n",
       "    <tr>\n",
       "      <th>166</th>\n",
       "      <td>3872.97</td>\n",
       "      <td>3873.15</td>\n",
       "      <td>3863.17</td>\n",
       "      <td>3869.56</td>\n",
       "      <td>1551895200</td>\n",
       "      <td>853.82</td>\n",
       "      <td>3308672.53</td>\n",
       "    </tr>\n",
       "    <tr>\n",
       "      <th>167</th>\n",
       "      <td>3869.25</td>\n",
       "      <td>3874.66</td>\n",
       "      <td>3866.64</td>\n",
       "      <td>3872.97</td>\n",
       "      <td>1551898800</td>\n",
       "      <td>846.63</td>\n",
       "      <td>3271223.37</td>\n",
       "    </tr>\n",
       "    <tr>\n",
       "      <th>168</th>\n",
       "      <td>3867.61</td>\n",
       "      <td>3870.10</td>\n",
       "      <td>3866.42</td>\n",
       "      <td>3869.25</td>\n",
       "      <td>1551902400</td>\n",
       "      <td>416.90</td>\n",
       "      <td>1606011.69</td>\n",
       "    </tr>\n",
       "  </tbody>\n",
       "</table>\n",
       "</div>"
      ],
      "text/plain": [
       "       close     high      low     open        time  volumefrom    volumeto\n",
       "164  3879.34  3879.68  3866.28  3869.79  1551888000     1288.11  4964807.57\n",
       "165  3869.56  3879.34  3867.50  3879.34  1551891600     1128.98  4359140.48\n",
       "166  3872.97  3873.15  3863.17  3869.56  1551895200      853.82  3308672.53\n",
       "167  3869.25  3874.66  3866.64  3872.97  1551898800      846.63  3271223.37\n",
       "168  3867.61  3870.10  3866.42  3869.25  1551902400      416.90  1606011.69"
      ]
     },
     "execution_count": 4,
     "metadata": {},
     "output_type": "execute_result"
    }
   ],
   "source": [
    "df.tail()"
   ]
  },
  {
   "cell_type": "code",
   "execution_count": 5,
   "metadata": {},
   "outputs": [],
   "source": [
    "df.to_csv('bitcoin_20190307_per_hour.csv', index=False)"
   ]
  },
  {
   "cell_type": "code",
   "execution_count": null,
   "metadata": {},
   "outputs": [],
   "source": []
  }
 ],
 "metadata": {
  "kernelspec": {
   "display_name": "Python 3",
   "language": "python",
   "name": "python3"
  },
  "language_info": {
   "codemirror_mode": {
    "name": "ipython",
    "version": 3
   },
   "file_extension": ".py",
   "mimetype": "text/x-python",
   "name": "python",
   "nbconvert_exporter": "python",
   "pygments_lexer": "ipython3",
   "version": "3.7.1"
  }
 },
 "nbformat": 4,
 "nbformat_minor": 2
}
