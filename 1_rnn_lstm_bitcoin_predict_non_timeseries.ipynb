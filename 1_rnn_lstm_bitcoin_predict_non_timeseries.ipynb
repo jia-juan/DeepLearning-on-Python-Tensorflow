{
 "cells": [
  {
   "cell_type": "code",
   "execution_count": 1,
   "metadata": {},
   "outputs": [
    {
     "name": "stderr",
     "output_type": "stream",
     "text": [
      "Using TensorFlow backend.\n"
     ]
    }
   ],
   "source": [
    "import pandas as pd\n",
    "import numpy as np\n",
    "import matplotlib.pyplot as plt\n",
    "%matplotlib inline\n",
    "import seaborn as sns\n",
    "sns.set()\n",
    "\n",
    "import keras"
   ]
  },
  {
   "cell_type": "code",
   "execution_count": 2,
   "metadata": {},
   "outputs": [],
   "source": [
    "raw_df = pd.read_csv('bitcoin_20190306.csv')"
   ]
  },
  {
   "cell_type": "code",
   "execution_count": 3,
   "metadata": {},
   "outputs": [
    {
     "data": {
      "text/html": [
       "<div>\n",
       "<style scoped>\n",
       "    .dataframe tbody tr th:only-of-type {\n",
       "        vertical-align: middle;\n",
       "    }\n",
       "\n",
       "    .dataframe tbody tr th {\n",
       "        vertical-align: top;\n",
       "    }\n",
       "\n",
       "    .dataframe thead th {\n",
       "        text-align: right;\n",
       "    }\n",
       "</style>\n",
       "<table border=\"1\" class=\"dataframe\">\n",
       "  <thead>\n",
       "    <tr style=\"text-align: right;\">\n",
       "      <th></th>\n",
       "      <th>close</th>\n",
       "      <th>high</th>\n",
       "      <th>low</th>\n",
       "      <th>open</th>\n",
       "      <th>time</th>\n",
       "      <th>volumefrom</th>\n",
       "      <th>volumeto</th>\n",
       "    </tr>\n",
       "  </thead>\n",
       "  <tbody>\n",
       "    <tr>\n",
       "      <th>0</th>\n",
       "      <td>0.04951</td>\n",
       "      <td>0.04951</td>\n",
       "      <td>0.04951</td>\n",
       "      <td>0.04951</td>\n",
       "      <td>1279324800</td>\n",
       "      <td>20.00</td>\n",
       "      <td>0.9902</td>\n",
       "    </tr>\n",
       "    <tr>\n",
       "      <th>1</th>\n",
       "      <td>0.08584</td>\n",
       "      <td>0.08585</td>\n",
       "      <td>0.05941</td>\n",
       "      <td>0.04951</td>\n",
       "      <td>1279411200</td>\n",
       "      <td>75.01</td>\n",
       "      <td>5.0900</td>\n",
       "    </tr>\n",
       "    <tr>\n",
       "      <th>2</th>\n",
       "      <td>0.08080</td>\n",
       "      <td>0.09307</td>\n",
       "      <td>0.07723</td>\n",
       "      <td>0.08584</td>\n",
       "      <td>1279497600</td>\n",
       "      <td>574.00</td>\n",
       "      <td>49.6600</td>\n",
       "    </tr>\n",
       "    <tr>\n",
       "      <th>3</th>\n",
       "      <td>0.07474</td>\n",
       "      <td>0.08181</td>\n",
       "      <td>0.07426</td>\n",
       "      <td>0.08080</td>\n",
       "      <td>1279584000</td>\n",
       "      <td>262.00</td>\n",
       "      <td>20.5900</td>\n",
       "    </tr>\n",
       "    <tr>\n",
       "      <th>4</th>\n",
       "      <td>0.07921</td>\n",
       "      <td>0.07921</td>\n",
       "      <td>0.06634</td>\n",
       "      <td>0.07474</td>\n",
       "      <td>1279670400</td>\n",
       "      <td>575.00</td>\n",
       "      <td>42.2600</td>\n",
       "    </tr>\n",
       "  </tbody>\n",
       "</table>\n",
       "</div>"
      ],
      "text/plain": [
       "     close     high      low     open        time  volumefrom  volumeto\n",
       "0  0.04951  0.04951  0.04951  0.04951  1279324800       20.00    0.9902\n",
       "1  0.08584  0.08585  0.05941  0.04951  1279411200       75.01    5.0900\n",
       "2  0.08080  0.09307  0.07723  0.08584  1279497600      574.00   49.6600\n",
       "3  0.07474  0.08181  0.07426  0.08080  1279584000      262.00   20.5900\n",
       "4  0.07921  0.07921  0.06634  0.07474  1279670400      575.00   42.2600"
      ]
     },
     "execution_count": 3,
     "metadata": {},
     "output_type": "execute_result"
    }
   ],
   "source": [
    "raw_df.head()"
   ]
  },
  {
   "cell_type": "code",
   "execution_count": 4,
   "metadata": {},
   "outputs": [],
   "source": [
    "raw_df['time'] = pd.to_datetime(raw_df['time'], unit='s')"
   ]
  },
  {
   "cell_type": "code",
   "execution_count": 5,
   "metadata": {},
   "outputs": [
    {
     "data": {
      "text/html": [
       "<div>\n",
       "<style scoped>\n",
       "    .dataframe tbody tr th:only-of-type {\n",
       "        vertical-align: middle;\n",
       "    }\n",
       "\n",
       "    .dataframe tbody tr th {\n",
       "        vertical-align: top;\n",
       "    }\n",
       "\n",
       "    .dataframe thead th {\n",
       "        text-align: right;\n",
       "    }\n",
       "</style>\n",
       "<table border=\"1\" class=\"dataframe\">\n",
       "  <thead>\n",
       "    <tr style=\"text-align: right;\">\n",
       "      <th></th>\n",
       "      <th>close</th>\n",
       "      <th>high</th>\n",
       "      <th>low</th>\n",
       "      <th>open</th>\n",
       "      <th>time</th>\n",
       "      <th>volumefrom</th>\n",
       "      <th>volumeto</th>\n",
       "    </tr>\n",
       "  </thead>\n",
       "  <tbody>\n",
       "    <tr>\n",
       "      <th>0</th>\n",
       "      <td>0.04951</td>\n",
       "      <td>0.04951</td>\n",
       "      <td>0.04951</td>\n",
       "      <td>0.04951</td>\n",
       "      <td>2010-07-17</td>\n",
       "      <td>20.00</td>\n",
       "      <td>0.9902</td>\n",
       "    </tr>\n",
       "    <tr>\n",
       "      <th>1</th>\n",
       "      <td>0.08584</td>\n",
       "      <td>0.08585</td>\n",
       "      <td>0.05941</td>\n",
       "      <td>0.04951</td>\n",
       "      <td>2010-07-18</td>\n",
       "      <td>75.01</td>\n",
       "      <td>5.0900</td>\n",
       "    </tr>\n",
       "    <tr>\n",
       "      <th>2</th>\n",
       "      <td>0.08080</td>\n",
       "      <td>0.09307</td>\n",
       "      <td>0.07723</td>\n",
       "      <td>0.08584</td>\n",
       "      <td>2010-07-19</td>\n",
       "      <td>574.00</td>\n",
       "      <td>49.6600</td>\n",
       "    </tr>\n",
       "    <tr>\n",
       "      <th>3</th>\n",
       "      <td>0.07474</td>\n",
       "      <td>0.08181</td>\n",
       "      <td>0.07426</td>\n",
       "      <td>0.08080</td>\n",
       "      <td>2010-07-20</td>\n",
       "      <td>262.00</td>\n",
       "      <td>20.5900</td>\n",
       "    </tr>\n",
       "    <tr>\n",
       "      <th>4</th>\n",
       "      <td>0.07921</td>\n",
       "      <td>0.07921</td>\n",
       "      <td>0.06634</td>\n",
       "      <td>0.07474</td>\n",
       "      <td>2010-07-21</td>\n",
       "      <td>575.00</td>\n",
       "      <td>42.2600</td>\n",
       "    </tr>\n",
       "  </tbody>\n",
       "</table>\n",
       "</div>"
      ],
      "text/plain": [
       "     close     high      low     open       time  volumefrom  volumeto\n",
       "0  0.04951  0.04951  0.04951  0.04951 2010-07-17       20.00    0.9902\n",
       "1  0.08584  0.08585  0.05941  0.04951 2010-07-18       75.01    5.0900\n",
       "2  0.08080  0.09307  0.07723  0.08584 2010-07-19      574.00   49.6600\n",
       "3  0.07474  0.08181  0.07426  0.08080 2010-07-20      262.00   20.5900\n",
       "4  0.07921  0.07921  0.06634  0.07474 2010-07-21      575.00   42.2600"
      ]
     },
     "execution_count": 5,
     "metadata": {},
     "output_type": "execute_result"
    }
   ],
   "source": [
    "raw_df.head()"
   ]
  },
  {
   "cell_type": "code",
   "execution_count": 6,
   "metadata": {},
   "outputs": [],
   "source": [
    "raw_df['raise'] = ( raw_df.close - raw_df.open ) / raw_df.open"
   ]
  },
  {
   "cell_type": "code",
   "execution_count": 7,
   "metadata": {},
   "outputs": [],
   "source": [
    "raw_df['rs_status'] = raw_df['raise'].apply(lambda x: 1 if x>=0 else 0)"
   ]
  },
  {
   "cell_type": "code",
   "execution_count": null,
   "metadata": {},
   "outputs": [],
   "source": [
    "raw_df.head()"
   ]
  },
  {
   "cell_type": "code",
   "execution_count": null,
   "metadata": {},
   "outputs": [],
   "source": [
    "df.groupby('rs_status')['raise'].count()"
   ]
  },
  {
   "cell_type": "markdown",
   "metadata": {},
   "source": [
    "----"
   ]
  },
  {
   "cell_type": "code",
   "execution_count": 8,
   "metadata": {},
   "outputs": [],
   "source": [
    "# select data after 2017\n",
    "df = raw_df[raw_df.time > '2017-01-01']"
   ]
  },
  {
   "cell_type": "code",
   "execution_count": 9,
   "metadata": {
    "scrolled": true
   },
   "outputs": [
    {
     "data": {
      "text/html": [
       "<div>\n",
       "<style scoped>\n",
       "    .dataframe tbody tr th:only-of-type {\n",
       "        vertical-align: middle;\n",
       "    }\n",
       "\n",
       "    .dataframe tbody tr th {\n",
       "        vertical-align: top;\n",
       "    }\n",
       "\n",
       "    .dataframe thead th {\n",
       "        text-align: right;\n",
       "    }\n",
       "</style>\n",
       "<table border=\"1\" class=\"dataframe\">\n",
       "  <thead>\n",
       "    <tr style=\"text-align: right;\">\n",
       "      <th></th>\n",
       "      <th>close</th>\n",
       "      <th>high</th>\n",
       "      <th>low</th>\n",
       "      <th>open</th>\n",
       "      <th>time</th>\n",
       "      <th>volumefrom</th>\n",
       "      <th>volumeto</th>\n",
       "      <th>raise</th>\n",
       "      <th>rs_status</th>\n",
       "    </tr>\n",
       "  </thead>\n",
       "  <tbody>\n",
       "    <tr>\n",
       "      <th>2361</th>\n",
       "      <td>1017.05</td>\n",
       "      <td>1031.68</td>\n",
       "      <td>990.20</td>\n",
       "      <td>995.44</td>\n",
       "      <td>2017-01-02</td>\n",
       "      <td>64951.63</td>\n",
       "      <td>6.603807e+07</td>\n",
       "      <td>0.021709</td>\n",
       "      <td>1</td>\n",
       "    </tr>\n",
       "    <tr>\n",
       "      <th>2362</th>\n",
       "      <td>1033.30</td>\n",
       "      <td>1035.47</td>\n",
       "      <td>1006.53</td>\n",
       "      <td>1017.05</td>\n",
       "      <td>2017-01-03</td>\n",
       "      <td>54788.01</td>\n",
       "      <td>5.608587e+07</td>\n",
       "      <td>0.015978</td>\n",
       "      <td>1</td>\n",
       "    </tr>\n",
       "    <tr>\n",
       "      <th>2363</th>\n",
       "      <td>1135.41</td>\n",
       "      <td>1148.54</td>\n",
       "      <td>1022.32</td>\n",
       "      <td>1033.30</td>\n",
       "      <td>2017-01-04</td>\n",
       "      <td>156272.17</td>\n",
       "      <td>1.705846e+08</td>\n",
       "      <td>0.098819</td>\n",
       "      <td>1</td>\n",
       "    </tr>\n",
       "    <tr>\n",
       "      <th>2364</th>\n",
       "      <td>989.35</td>\n",
       "      <td>1150.63</td>\n",
       "      <td>874.53</td>\n",
       "      <td>1135.41</td>\n",
       "      <td>2017-01-05</td>\n",
       "      <td>240007.84</td>\n",
       "      <td>2.448393e+08</td>\n",
       "      <td>-0.128641</td>\n",
       "      <td>0</td>\n",
       "    </tr>\n",
       "    <tr>\n",
       "      <th>2365</th>\n",
       "      <td>886.16</td>\n",
       "      <td>1027.42</td>\n",
       "      <td>852.55</td>\n",
       "      <td>989.35</td>\n",
       "      <td>2017-01-06</td>\n",
       "      <td>194290.96</td>\n",
       "      <td>1.791607e+08</td>\n",
       "      <td>-0.104301</td>\n",
       "      <td>0</td>\n",
       "    </tr>\n",
       "  </tbody>\n",
       "</table>\n",
       "</div>"
      ],
      "text/plain": [
       "        close     high      low     open       time  volumefrom      volumeto  \\\n",
       "2361  1017.05  1031.68   990.20   995.44 2017-01-02    64951.63  6.603807e+07   \n",
       "2362  1033.30  1035.47  1006.53  1017.05 2017-01-03    54788.01  5.608587e+07   \n",
       "2363  1135.41  1148.54  1022.32  1033.30 2017-01-04   156272.17  1.705846e+08   \n",
       "2364   989.35  1150.63   874.53  1135.41 2017-01-05   240007.84  2.448393e+08   \n",
       "2365   886.16  1027.42   852.55   989.35 2017-01-06   194290.96  1.791607e+08   \n",
       "\n",
       "         raise  rs_status  \n",
       "2361  0.021709          1  \n",
       "2362  0.015978          1  \n",
       "2363  0.098819          1  \n",
       "2364 -0.128641          0  \n",
       "2365 -0.104301          0  "
      ]
     },
     "execution_count": 9,
     "metadata": {},
     "output_type": "execute_result"
    }
   ],
   "source": [
    "df.head()"
   ]
  },
  {
   "cell_type": "code",
   "execution_count": 10,
   "metadata": {},
   "outputs": [],
   "source": [
    "# target y (yl: close, yc:rs_status)\n",
    "yl = np.array(df.close)\n",
    "yc = np.array(df.rs_status)"
   ]
  },
  {
   "cell_type": "code",
   "execution_count": 11,
   "metadata": {},
   "outputs": [],
   "source": [
    "# predictors X (['high', 'low', 'open', 'volumefrom', 'volumeto', 'raise'])\n",
    "X = np.array(df[['high', 'low', 'open', 'volumefrom', 'volumeto', 'raise']])"
   ]
  },
  {
   "cell_type": "markdown",
   "metadata": {},
   "source": [
    "----"
   ]
  },
  {
   "cell_type": "markdown",
   "metadata": {},
   "source": [
    "## Model 1: Predict daily rasie status"
   ]
  },
  {
   "cell_type": "code",
   "execution_count": 13,
   "metadata": {},
   "outputs": [],
   "source": [
    "from keras.models import Sequential\n",
    "from keras.layers import Embedding, SimpleRNN,LSTM,Dense, Flatten, Reshape, Dropout"
   ]
  },
  {
   "cell_type": "code",
   "execution_count": 14,
   "metadata": {},
   "outputs": [
    {
     "name": "stdout",
     "output_type": "stream",
     "text": [
      "X.shape= (793, 6)\n",
      "yc_shape= (793,)\n"
     ]
    }
   ],
   "source": [
    "print('X.shape=', X.shape)\n",
    "print('yc_shape=', yc.shape)"
   ]
  },
  {
   "cell_type": "code",
   "execution_count": 15,
   "metadata": {},
   "outputs": [],
   "source": [
    "num_train = 600\n",
    "X_train = X[:num_train]\n",
    "X_test = X[num_train:]"
   ]
  },
  {
   "cell_type": "code",
   "execution_count": 16,
   "metadata": {},
   "outputs": [],
   "source": [
    "y_train = yc[:num_train]\n",
    "y_test = yc[num_train:]"
   ]
  },
  {
   "cell_type": "code",
   "execution_count": 17,
   "metadata": {},
   "outputs": [
    {
     "data": {
      "text/plain": [
       "array([[ 0.18670391,  0.29814593,  0.22386439, -1.07293816, -0.56159283,\n",
       "         0.03448319],\n",
       "       [ 0.18302297,  0.27318477,  0.23384104, -1.04804138, -0.55115683,\n",
       "        -0.17785387],\n",
       "       [ 0.21838997,  0.29570745,  0.22671766, -0.70968821, -0.3570422 ,\n",
       "         0.50514244],\n",
       "       ...,\n",
       "       [-0.50537143, -0.45716989, -0.4774618 , -1.42992217, -0.83100016,\n",
       "        -0.25276778],\n",
       "       [-0.51058609, -0.4787902 , -0.48495713, -1.05478615, -0.71562517,\n",
       "        -0.52484833],\n",
       "       [-0.49594897, -0.47478692, -0.50478563, -1.04458158, -0.70890268,\n",
       "         0.59726955]])"
      ]
     },
     "execution_count": 17,
     "metadata": {},
     "output_type": "execute_result"
    }
   ],
   "source": [
    "from sklearn.preprocessing import StandardScaler\n",
    "scaler = StandardScaler()\n",
    "scaler.fit(X_train)\n",
    "scaler.transform(X_train)\n",
    "scaler.transform(X_test)"
   ]
  },
  {
   "cell_type": "code",
   "execution_count": 18,
   "metadata": {},
   "outputs": [
    {
     "name": "stdout",
     "output_type": "stream",
     "text": [
      "(600,) (600, 6, 1) (193,) (193, 6, 1)\n"
     ]
    }
   ],
   "source": [
    "# 改變輸入為(?, ?, 1)\n",
    "X_train = X_train.reshape((*X_train.shape, 1))\n",
    "X_test = X_test.reshape((*X_test.shape, 1))\n",
    "print(y_train.shape, X_train.shape, y_test.shape, X_test.shape)"
   ]
  },
  {
   "cell_type": "code",
   "execution_count": 19,
   "metadata": {},
   "outputs": [
    {
     "data": {
      "text/plain": [
       "(600,)"
      ]
     },
     "execution_count": 19,
     "metadata": {},
     "output_type": "execute_result"
    }
   ],
   "source": [
    "y_train.shape"
   ]
  },
  {
   "cell_type": "markdown",
   "metadata": {},
   "source": [
    "----"
   ]
  },
  {
   "cell_type": "markdown",
   "metadata": {},
   "source": [
    "### 1. simpleRNN model"
   ]
  },
  {
   "cell_type": "code",
   "execution_count": 12,
   "metadata": {
    "collapsed": true
   },
   "outputs": [
    {
     "ename": "NameError",
     "evalue": "name 'Sequential' is not defined",
     "output_type": "error",
     "traceback": [
      "\u001b[0;31m---------------------------------------------------------------------------\u001b[0m",
      "\u001b[0;31mNameError\u001b[0m                                 Traceback (most recent call last)",
      "\u001b[0;32m<ipython-input-12-ea1d4439793a>\u001b[0m in \u001b[0;36m<module>\u001b[0;34m\u001b[0m\n\u001b[1;32m      6\u001b[0m \u001b[0;34m\u001b[0m\u001b[0m\n\u001b[1;32m      7\u001b[0m \u001b[0;31m# 建立模型(將SimpleRNN與Dense層依序添加至模型內)。\u001b[0m\u001b[0;34m\u001b[0m\u001b[0;34m\u001b[0m\u001b[0;34m\u001b[0m\u001b[0m\n\u001b[0;32m----> 8\u001b[0;31m \u001b[0mmodel\u001b[0m \u001b[0;34m=\u001b[0m \u001b[0mSequential\u001b[0m\u001b[0;34m(\u001b[0m\u001b[0;34m)\u001b[0m\u001b[0;34m\u001b[0m\u001b[0;34m\u001b[0m\u001b[0m\n\u001b[0m\u001b[1;32m      9\u001b[0m \u001b[0mmodel\u001b[0m\u001b[0;34m.\u001b[0m\u001b[0madd\u001b[0m\u001b[0;34m(\u001b[0m\u001b[0mSimpleRNN\u001b[0m\u001b[0;34m(\u001b[0m\u001b[0minput_shape\u001b[0m\u001b[0;34m=\u001b[0m\u001b[0;34m(\u001b[0m\u001b[0mtime_dim\u001b[0m\u001b[0;34m,\u001b[0m\u001b[0mseq_dim\u001b[0m\u001b[0;34m)\u001b[0m\u001b[0;34m,\u001b[0m \u001b[0munits\u001b[0m\u001b[0;34m=\u001b[0m\u001b[0mhidden_neurons\u001b[0m\u001b[0;34m,\u001b[0m \u001b[0mreturn_sequences\u001b[0m\u001b[0;34m=\u001b[0m\u001b[0;32mFalse\u001b[0m\u001b[0;34m)\u001b[0m\u001b[0;34m)\u001b[0m\u001b[0;34m\u001b[0m\u001b[0;34m\u001b[0m\u001b[0m\n\u001b[1;32m     10\u001b[0m \u001b[0mmodel\u001b[0m\u001b[0;34m.\u001b[0m\u001b[0madd\u001b[0m\u001b[0;34m(\u001b[0m\u001b[0mDense\u001b[0m\u001b[0;34m(\u001b[0m\u001b[0;36m1\u001b[0m\u001b[0;34m,\u001b[0m \u001b[0mactivation\u001b[0m\u001b[0;34m=\u001b[0m\u001b[0;34m\"sigmoid\"\u001b[0m\u001b[0;34m)\u001b[0m\u001b[0;34m)\u001b[0m\u001b[0;34m\u001b[0m\u001b[0;34m\u001b[0m\u001b[0m\n",
      "\u001b[0;31mNameError\u001b[0m: name 'Sequential' is not defined"
     ]
    }
   ],
   "source": [
    "# model 1\n",
    "hidden_neurons=1\n",
    "\n",
    "time_dim=6\n",
    "seq_dim=1\n",
    "\n",
    "# 建立模型(將SimpleRNN與Dense層依序添加至模型內)。\n",
    "model = Sequential()  \n",
    "model.add(SimpleRNN(input_shape=(time_dim,seq_dim), units=hidden_neurons, return_sequences=False))  \n",
    "model.add(Dense(1, activation=\"sigmoid\"))\n",
    "\n",
    "model.compile(loss='binary_crossentropy', optimizer='adadelta', metrics=['accuracy'])\n",
    "model.summary()"
   ]
  },
  {
   "cell_type": "code",
   "execution_count": null,
   "metadata": {},
   "outputs": [],
   "source": [
    "history = model.fit(X_train, y_train, epochs=1000, batch_size=32, validation_split=0.3) # 訓練模型。"
   ]
  },
  {
   "cell_type": "code",
   "execution_count": null,
   "metadata": {},
   "outputs": [],
   "source": [
    "# 畫出模型訓練情形。\n",
    "plt.plot(history.history['acc'],ms=5,marker='o',label='accuracy')\n",
    "plt.plot(history.history['val_acc'],ms=5,marker='o',label='val accuracy')\n",
    "plt.ylim(0,1)\n",
    "plt.legend()\n",
    "plt.show()\n",
    "\n",
    "plt.plot(history.history['loss'],ms=5,marker='o',label='loss')\n",
    "plt.plot(history.history['val_loss'],ms=5,marker='o',label='val loss')\n",
    "plt.legend()\n",
    "plt.ylim(0,)\n",
    "plt.show()"
   ]
  },
  {
   "cell_type": "code",
   "execution_count": null,
   "metadata": {},
   "outputs": [],
   "source": [
    "y_pred = pd.Series(model.predict(X_test)[:,0]).apply(lambda x:1 if x>0.5 else 0).values"
   ]
  },
  {
   "cell_type": "code",
   "execution_count": null,
   "metadata": {},
   "outputs": [],
   "source": [
    "y_pred"
   ]
  },
  {
   "cell_type": "code",
   "execution_count": null,
   "metadata": {},
   "outputs": [],
   "source": [
    "score, acc = model.evaluate(X_test, y_test,\n",
    "                            batch_size=128)\n",
    "print('Test score:', score)\n",
    "print('Test accuracy:', acc)"
   ]
  },
  {
   "cell_type": "markdown",
   "metadata": {},
   "source": [
    "----"
   ]
  },
  {
   "cell_type": "markdown",
   "metadata": {},
   "source": [
    "### 2. RNN model (beta)"
   ]
  },
  {
   "cell_type": "code",
   "execution_count": 20,
   "metadata": {},
   "outputs": [
    {
     "name": "stdout",
     "output_type": "stream",
     "text": [
      "_________________________________________________________________\n",
      "Layer (type)                 Output Shape              Param #   \n",
      "=================================================================\n",
      "simple_rnn_1 (SimpleRNN)     (None, 32)                1088      \n",
      "_________________________________________________________________\n",
      "dense_1 (Dense)              (None, 10)                330       \n",
      "_________________________________________________________________\n",
      "dropout_1 (Dropout)          (None, 10)                0         \n",
      "_________________________________________________________________\n",
      "dense_2 (Dense)              (None, 1)                 11        \n",
      "=================================================================\n",
      "Total params: 1,429\n",
      "Trainable params: 1,429\n",
      "Non-trainable params: 0\n",
      "_________________________________________________________________\n"
     ]
    }
   ],
   "source": [
    "# model 2\n",
    "hidden_neurons=32\n",
    "\n",
    "time_dim=6\n",
    "seq_dim=1\n",
    "\n",
    "model = Sequential()  \n",
    "model.add(SimpleRNN(input_shape=(time_dim,seq_dim), units=hidden_neurons, return_sequences=False))\n",
    "model.add(Dense(10, activation='relu'))\n",
    "model.add(Dropout(0.5))\n",
    "# model.add(Reshape((-1,)))\n",
    "model.add(Dense(1, activation='sigmoid'))\n",
    "\n",
    "model.compile(loss='mean_squared_error', optimizer='adam', metrics=['mse', 'acc'])\n",
    "model.summary()"
   ]
  },
  {
   "cell_type": "code",
   "execution_count": 21,
   "metadata": {},
   "outputs": [
    {
     "name": "stdout",
     "output_type": "stream",
     "text": [
      "Train on 420 samples, validate on 180 samples\n",
      "Epoch 1/200\n",
      "420/420 [==============================] - 0s 835us/step - loss: 0.3721 - mean_squared_error: 0.3721 - acc: 0.4786 - val_loss: 0.3029 - val_mean_squared_error: 0.3029 - val_acc: 0.4944\n",
      "Epoch 2/200\n",
      "420/420 [==============================] - 0s 33us/step - loss: 0.3524 - mean_squared_error: 0.3524 - acc: 0.4048 - val_loss: 0.2588 - val_mean_squared_error: 0.2588 - val_acc: 0.4944\n",
      "Epoch 3/200\n",
      "420/420 [==============================] - 0s 37us/step - loss: 0.2684 - mean_squared_error: 0.2684 - acc: 0.5024 - val_loss: 0.2548 - val_mean_squared_error: 0.2548 - val_acc: 0.5056\n",
      "Epoch 4/200\n",
      "420/420 [==============================] - 0s 38us/step - loss: 0.2688 - mean_squared_error: 0.2688 - acc: 0.5476 - val_loss: 0.2787 - val_mean_squared_error: 0.2787 - val_acc: 0.5056\n",
      "Epoch 5/200\n",
      "420/420 [==============================] - 0s 36us/step - loss: 0.2521 - mean_squared_error: 0.2521 - acc: 0.5690 - val_loss: 0.2805 - val_mean_squared_error: 0.2805 - val_acc: 0.5056\n",
      "Epoch 6/200\n",
      "420/420 [==============================] - 0s 32us/step - loss: 0.2509 - mean_squared_error: 0.2509 - acc: 0.5833 - val_loss: 0.2641 - val_mean_squared_error: 0.2641 - val_acc: 0.5056\n",
      "Epoch 7/200\n",
      "420/420 [==============================] - 0s 36us/step - loss: 0.2460 - mean_squared_error: 0.2460 - acc: 0.5929 - val_loss: 0.2518 - val_mean_squared_error: 0.2518 - val_acc: 0.5056\n",
      "Epoch 8/200\n",
      "420/420 [==============================] - 0s 34us/step - loss: 0.2424 - mean_squared_error: 0.2424 - acc: 0.5667 - val_loss: 0.2518 - val_mean_squared_error: 0.2518 - val_acc: 0.5056\n",
      "Epoch 9/200\n",
      "420/420 [==============================] - 0s 31us/step - loss: 0.2440 - mean_squared_error: 0.2440 - acc: 0.5976 - val_loss: 0.2546 - val_mean_squared_error: 0.2546 - val_acc: 0.5056\n",
      "Epoch 10/200\n",
      "420/420 [==============================] - 0s 36us/step - loss: 0.2437 - mean_squared_error: 0.2437 - acc: 0.5952 - val_loss: 0.2553 - val_mean_squared_error: 0.2553 - val_acc: 0.5056\n",
      "Epoch 11/200\n",
      "420/420 [==============================] - 0s 38us/step - loss: 0.2448 - mean_squared_error: 0.2448 - acc: 0.5976 - val_loss: 0.2528 - val_mean_squared_error: 0.2528 - val_acc: 0.5056\n",
      "Epoch 12/200\n",
      "420/420 [==============================] - 0s 36us/step - loss: 0.2412 - mean_squared_error: 0.2412 - acc: 0.5929 - val_loss: 0.2502 - val_mean_squared_error: 0.2502 - val_acc: 0.5056\n",
      "Epoch 13/200\n",
      "420/420 [==============================] - 0s 30us/step - loss: 0.2456 - mean_squared_error: 0.2456 - acc: 0.5524 - val_loss: 0.2494 - val_mean_squared_error: 0.2494 - val_acc: 0.5056\n",
      "Epoch 14/200\n",
      "420/420 [==============================] - 0s 28us/step - loss: 0.2419 - mean_squared_error: 0.2419 - acc: 0.5929 - val_loss: 0.2500 - val_mean_squared_error: 0.2500 - val_acc: 0.5056\n",
      "Epoch 15/200\n",
      "420/420 [==============================] - 0s 35us/step - loss: 0.2444 - mean_squared_error: 0.2444 - acc: 0.5881 - val_loss: 0.2523 - val_mean_squared_error: 0.2523 - val_acc: 0.5056\n",
      "Epoch 16/200\n",
      "420/420 [==============================] - 0s 32us/step - loss: 0.2435 - mean_squared_error: 0.2435 - acc: 0.5929 - val_loss: 0.2535 - val_mean_squared_error: 0.2535 - val_acc: 0.5056\n",
      "Epoch 17/200\n",
      "420/420 [==============================] - 0s 36us/step - loss: 0.2424 - mean_squared_error: 0.2424 - acc: 0.5929 - val_loss: 0.2527 - val_mean_squared_error: 0.2527 - val_acc: 0.5056\n",
      "Epoch 18/200\n",
      "420/420 [==============================] - 0s 34us/step - loss: 0.2384 - mean_squared_error: 0.2384 - acc: 0.5929 - val_loss: 0.2541 - val_mean_squared_error: 0.2541 - val_acc: 0.5056\n",
      "Epoch 19/200\n",
      "420/420 [==============================] - 0s 30us/step - loss: 0.2388 - mean_squared_error: 0.2388 - acc: 0.5929 - val_loss: 0.2535 - val_mean_squared_error: 0.2535 - val_acc: 0.5056\n",
      "Epoch 20/200\n",
      "420/420 [==============================] - 0s 30us/step - loss: 0.2411 - mean_squared_error: 0.2411 - acc: 0.5929 - val_loss: 0.2522 - val_mean_squared_error: 0.2522 - val_acc: 0.5056\n",
      "Epoch 21/200\n",
      "420/420 [==============================] - 0s 29us/step - loss: 0.2383 - mean_squared_error: 0.2383 - acc: 0.5929 - val_loss: 0.2536 - val_mean_squared_error: 0.2536 - val_acc: 0.5056\n",
      "Epoch 22/200\n",
      "420/420 [==============================] - 0s 33us/step - loss: 0.2377 - mean_squared_error: 0.2377 - acc: 0.5929 - val_loss: 0.2558 - val_mean_squared_error: 0.2558 - val_acc: 0.5056\n",
      "Epoch 23/200\n",
      "420/420 [==============================] - 0s 31us/step - loss: 0.2395 - mean_squared_error: 0.2395 - acc: 0.5929 - val_loss: 0.2554 - val_mean_squared_error: 0.2554 - val_acc: 0.5056\n",
      "Epoch 24/200\n",
      "420/420 [==============================] - 0s 31us/step - loss: 0.2416 - mean_squared_error: 0.2416 - acc: 0.5929 - val_loss: 0.2522 - val_mean_squared_error: 0.2522 - val_acc: 0.5056\n",
      "Epoch 25/200\n",
      "420/420 [==============================] - 0s 33us/step - loss: 0.2354 - mean_squared_error: 0.2354 - acc: 0.5929 - val_loss: 0.2507 - val_mean_squared_error: 0.2507 - val_acc: 0.5056\n",
      "Epoch 26/200\n",
      "420/420 [==============================] - 0s 34us/step - loss: 0.2375 - mean_squared_error: 0.2375 - acc: 0.5929 - val_loss: 0.2507 - val_mean_squared_error: 0.2507 - val_acc: 0.5056\n",
      "Epoch 27/200\n",
      "420/420 [==============================] - 0s 33us/step - loss: 0.2400 - mean_squared_error: 0.2400 - acc: 0.5929 - val_loss: 0.2507 - val_mean_squared_error: 0.2507 - val_acc: 0.5056\n",
      "Epoch 28/200\n",
      "420/420 [==============================] - 0s 29us/step - loss: 0.2380 - mean_squared_error: 0.2380 - acc: 0.5929 - val_loss: 0.2491 - val_mean_squared_error: 0.2491 - val_acc: 0.5056\n",
      "Epoch 29/200\n",
      "420/420 [==============================] - 0s 34us/step - loss: 0.2391 - mean_squared_error: 0.2391 - acc: 0.5929 - val_loss: 0.2493 - val_mean_squared_error: 0.2493 - val_acc: 0.5056\n",
      "Epoch 30/200\n",
      "420/420 [==============================] - 0s 37us/step - loss: 0.2395 - mean_squared_error: 0.2395 - acc: 0.5929 - val_loss: 0.2524 - val_mean_squared_error: 0.2524 - val_acc: 0.5056\n",
      "Epoch 31/200\n",
      "420/420 [==============================] - 0s 33us/step - loss: 0.2367 - mean_squared_error: 0.2367 - acc: 0.5929 - val_loss: 0.2540 - val_mean_squared_error: 0.2540 - val_acc: 0.5056\n",
      "Epoch 32/200\n",
      "420/420 [==============================] - 0s 33us/step - loss: 0.2423 - mean_squared_error: 0.2423 - acc: 0.5929 - val_loss: 0.2494 - val_mean_squared_error: 0.2494 - val_acc: 0.5056\n",
      "Epoch 33/200\n",
      "420/420 [==============================] - 0s 34us/step - loss: 0.2367 - mean_squared_error: 0.2367 - acc: 0.5929 - val_loss: 0.2477 - val_mean_squared_error: 0.2477 - val_acc: 0.5056\n",
      "Epoch 34/200\n",
      "420/420 [==============================] - 0s 27us/step - loss: 0.2369 - mean_squared_error: 0.2369 - acc: 0.5929 - val_loss: 0.2506 - val_mean_squared_error: 0.2506 - val_acc: 0.5056\n",
      "Epoch 35/200\n",
      "420/420 [==============================] - 0s 33us/step - loss: 0.2344 - mean_squared_error: 0.2344 - acc: 0.5929 - val_loss: 0.2529 - val_mean_squared_error: 0.2529 - val_acc: 0.5056\n",
      "Epoch 36/200\n",
      "420/420 [==============================] - 0s 34us/step - loss: 0.2376 - mean_squared_error: 0.2376 - acc: 0.5929 - val_loss: 0.2544 - val_mean_squared_error: 0.2544 - val_acc: 0.5056\n",
      "Epoch 37/200\n",
      "420/420 [==============================] - 0s 29us/step - loss: 0.2380 - mean_squared_error: 0.2380 - acc: 0.5929 - val_loss: 0.2516 - val_mean_squared_error: 0.2516 - val_acc: 0.5056\n",
      "Epoch 38/200\n",
      "420/420 [==============================] - 0s 33us/step - loss: 0.2368 - mean_squared_error: 0.2368 - acc: 0.5929 - val_loss: 0.2511 - val_mean_squared_error: 0.2511 - val_acc: 0.5056\n",
      "Epoch 39/200\n",
      "420/420 [==============================] - 0s 35us/step - loss: 0.2349 - mean_squared_error: 0.2349 - acc: 0.5929 - val_loss: 0.2519 - val_mean_squared_error: 0.2519 - val_acc: 0.5056\n",
      "Epoch 40/200\n",
      "420/420 [==============================] - 0s 33us/step - loss: 0.2372 - mean_squared_error: 0.2372 - acc: 0.5929 - val_loss: 0.2505 - val_mean_squared_error: 0.2505 - val_acc: 0.5056\n",
      "Epoch 41/200\n",
      "420/420 [==============================] - 0s 32us/step - loss: 0.2357 - mean_squared_error: 0.2357 - acc: 0.5929 - val_loss: 0.2485 - val_mean_squared_error: 0.2485 - val_acc: 0.5056\n",
      "Epoch 42/200\n"
     ]
    },
    {
     "name": "stdout",
     "output_type": "stream",
     "text": [
      "420/420 [==============================] - 0s 32us/step - loss: 0.2314 - mean_squared_error: 0.2314 - acc: 0.5929 - val_loss: 0.2480 - val_mean_squared_error: 0.2480 - val_acc: 0.5056\n",
      "Epoch 43/200\n",
      "420/420 [==============================] - 0s 30us/step - loss: 0.2338 - mean_squared_error: 0.2338 - acc: 0.5929 - val_loss: 0.2488 - val_mean_squared_error: 0.2488 - val_acc: 0.5056\n",
      "Epoch 44/200\n",
      "420/420 [==============================] - 0s 37us/step - loss: 0.2344 - mean_squared_error: 0.2344 - acc: 0.5929 - val_loss: 0.2466 - val_mean_squared_error: 0.2466 - val_acc: 0.5056\n",
      "Epoch 45/200\n",
      "420/420 [==============================] - 0s 29us/step - loss: 0.2328 - mean_squared_error: 0.2328 - acc: 0.5929 - val_loss: 0.2464 - val_mean_squared_error: 0.2464 - val_acc: 0.5056\n",
      "Epoch 46/200\n",
      "420/420 [==============================] - 0s 28us/step - loss: 0.2330 - mean_squared_error: 0.2330 - acc: 0.5929 - val_loss: 0.2468 - val_mean_squared_error: 0.2468 - val_acc: 0.5056\n",
      "Epoch 47/200\n",
      "420/420 [==============================] - 0s 26us/step - loss: 0.2326 - mean_squared_error: 0.2326 - acc: 0.5929 - val_loss: 0.2482 - val_mean_squared_error: 0.2482 - val_acc: 0.5056\n",
      "Epoch 48/200\n",
      "420/420 [==============================] - 0s 26us/step - loss: 0.2305 - mean_squared_error: 0.2305 - acc: 0.5929 - val_loss: 0.2522 - val_mean_squared_error: 0.2522 - val_acc: 0.5056\n",
      "Epoch 49/200\n",
      "420/420 [==============================] - 0s 28us/step - loss: 0.2369 - mean_squared_error: 0.2369 - acc: 0.5929 - val_loss: 0.2482 - val_mean_squared_error: 0.2482 - val_acc: 0.5056\n",
      "Epoch 50/200\n",
      "420/420 [==============================] - 0s 27us/step - loss: 0.2335 - mean_squared_error: 0.2335 - acc: 0.5929 - val_loss: 0.2485 - val_mean_squared_error: 0.2485 - val_acc: 0.5056\n",
      "Epoch 51/200\n",
      "420/420 [==============================] - 0s 25us/step - loss: 0.2321 - mean_squared_error: 0.2321 - acc: 0.5929 - val_loss: 0.2481 - val_mean_squared_error: 0.2481 - val_acc: 0.5056\n",
      "Epoch 52/200\n",
      "420/420 [==============================] - 0s 29us/step - loss: 0.2350 - mean_squared_error: 0.2350 - acc: 0.5929 - val_loss: 0.2464 - val_mean_squared_error: 0.2464 - val_acc: 0.5056\n",
      "Epoch 53/200\n",
      "420/420 [==============================] - 0s 28us/step - loss: 0.2305 - mean_squared_error: 0.2305 - acc: 0.5929 - val_loss: 0.2487 - val_mean_squared_error: 0.2487 - val_acc: 0.5056\n",
      "Epoch 54/200\n",
      "420/420 [==============================] - 0s 29us/step - loss: 0.2303 - mean_squared_error: 0.2303 - acc: 0.5929 - val_loss: 0.2473 - val_mean_squared_error: 0.2473 - val_acc: 0.5056\n",
      "Epoch 55/200\n",
      "420/420 [==============================] - 0s 28us/step - loss: 0.2326 - mean_squared_error: 0.2326 - acc: 0.5929 - val_loss: 0.2441 - val_mean_squared_error: 0.2441 - val_acc: 0.5056\n",
      "Epoch 56/200\n",
      "420/420 [==============================] - 0s 28us/step - loss: 0.2279 - mean_squared_error: 0.2279 - acc: 0.5929 - val_loss: 0.2455 - val_mean_squared_error: 0.2455 - val_acc: 0.5056\n",
      "Epoch 57/200\n",
      "420/420 [==============================] - 0s 31us/step - loss: 0.2297 - mean_squared_error: 0.2297 - acc: 0.5929 - val_loss: 0.2463 - val_mean_squared_error: 0.2463 - val_acc: 0.5056\n",
      "Epoch 58/200\n",
      "420/420 [==============================] - 0s 27us/step - loss: 0.2312 - mean_squared_error: 0.2312 - acc: 0.5929 - val_loss: 0.2427 - val_mean_squared_error: 0.2427 - val_acc: 0.5056\n",
      "Epoch 59/200\n",
      "420/420 [==============================] - 0s 27us/step - loss: 0.2319 - mean_squared_error: 0.2319 - acc: 0.5929 - val_loss: 0.2419 - val_mean_squared_error: 0.2419 - val_acc: 0.5056\n",
      "Epoch 60/200\n",
      "420/420 [==============================] - 0s 32us/step - loss: 0.2320 - mean_squared_error: 0.2320 - acc: 0.5929 - val_loss: 0.2439 - val_mean_squared_error: 0.2439 - val_acc: 0.5056\n",
      "Epoch 61/200\n",
      "420/420 [==============================] - 0s 31us/step - loss: 0.2295 - mean_squared_error: 0.2295 - acc: 0.5929 - val_loss: 0.2412 - val_mean_squared_error: 0.2412 - val_acc: 0.5056\n",
      "Epoch 62/200\n",
      "420/420 [==============================] - 0s 26us/step - loss: 0.2271 - mean_squared_error: 0.2271 - acc: 0.5929 - val_loss: 0.2461 - val_mean_squared_error: 0.2461 - val_acc: 0.5056\n",
      "Epoch 63/200\n",
      "420/420 [==============================] - 0s 29us/step - loss: 0.2283 - mean_squared_error: 0.2283 - acc: 0.5929 - val_loss: 0.2427 - val_mean_squared_error: 0.2427 - val_acc: 0.5056\n",
      "Epoch 64/200\n",
      "420/420 [==============================] - 0s 27us/step - loss: 0.2266 - mean_squared_error: 0.2266 - acc: 0.5929 - val_loss: 0.2407 - val_mean_squared_error: 0.2407 - val_acc: 0.5056\n",
      "Epoch 65/200\n",
      "420/420 [==============================] - 0s 28us/step - loss: 0.2261 - mean_squared_error: 0.2261 - acc: 0.5929 - val_loss: 0.2460 - val_mean_squared_error: 0.2460 - val_acc: 0.5056\n",
      "Epoch 66/200\n",
      "420/420 [==============================] - 0s 27us/step - loss: 0.2257 - mean_squared_error: 0.2257 - acc: 0.5929 - val_loss: 0.2454 - val_mean_squared_error: 0.2454 - val_acc: 0.5056\n",
      "Epoch 67/200\n",
      "420/420 [==============================] - 0s 26us/step - loss: 0.2251 - mean_squared_error: 0.2251 - acc: 0.5929 - val_loss: 0.2408 - val_mean_squared_error: 0.2408 - val_acc: 0.5056\n",
      "Epoch 68/200\n",
      "420/420 [==============================] - 0s 28us/step - loss: 0.2254 - mean_squared_error: 0.2254 - acc: 0.5929 - val_loss: 0.2408 - val_mean_squared_error: 0.2408 - val_acc: 0.5056\n",
      "Epoch 69/200\n",
      "420/420 [==============================] - 0s 29us/step - loss: 0.2229 - mean_squared_error: 0.2229 - acc: 0.5929 - val_loss: 0.2460 - val_mean_squared_error: 0.2460 - val_acc: 0.5056\n",
      "Epoch 70/200\n",
      "420/420 [==============================] - 0s 28us/step - loss: 0.2286 - mean_squared_error: 0.2286 - acc: 0.5929 - val_loss: 0.2418 - val_mean_squared_error: 0.2418 - val_acc: 0.5056\n",
      "Epoch 71/200\n",
      "420/420 [==============================] - 0s 28us/step - loss: 0.2205 - mean_squared_error: 0.2205 - acc: 0.5929 - val_loss: 0.2909 - val_mean_squared_error: 0.2909 - val_acc: 0.5056\n",
      "Epoch 72/200\n",
      "420/420 [==============================] - 0s 28us/step - loss: 0.2652 - mean_squared_error: 0.2652 - acc: 0.6048 - val_loss: 0.2585 - val_mean_squared_error: 0.2585 - val_acc: 0.5056\n",
      "Epoch 73/200\n",
      "420/420 [==============================] - 0s 32us/step - loss: 0.2350 - mean_squared_error: 0.2350 - acc: 0.5857 - val_loss: 0.2390 - val_mean_squared_error: 0.2390 - val_acc: 0.5278\n",
      "Epoch 74/200\n",
      "420/420 [==============================] - 0s 27us/step - loss: 0.2399 - mean_squared_error: 0.2399 - acc: 0.5976 - val_loss: 0.2413 - val_mean_squared_error: 0.2413 - val_acc: 0.5056\n",
      "Epoch 75/200\n",
      "420/420 [==============================] - 0s 30us/step - loss: 0.2305 - mean_squared_error: 0.2305 - acc: 0.6024 - val_loss: 0.2476 - val_mean_squared_error: 0.2476 - val_acc: 0.5056\n",
      "Epoch 76/200\n",
      "420/420 [==============================] - 0s 32us/step - loss: 0.2409 - mean_squared_error: 0.2409 - acc: 0.5929 - val_loss: 0.2458 - val_mean_squared_error: 0.2458 - val_acc: 0.5056\n",
      "Epoch 77/200\n",
      "420/420 [==============================] - 0s 29us/step - loss: 0.2292 - mean_squared_error: 0.2292 - acc: 0.5929 - val_loss: 0.2424 - val_mean_squared_error: 0.2424 - val_acc: 0.5056\n",
      "Epoch 78/200\n",
      "420/420 [==============================] - 0s 29us/step - loss: 0.2290 - mean_squared_error: 0.2290 - acc: 0.5929 - val_loss: 0.2430 - val_mean_squared_error: 0.2430 - val_acc: 0.5056\n",
      "Epoch 79/200\n",
      "420/420 [==============================] - 0s 28us/step - loss: 0.2312 - mean_squared_error: 0.2312 - acc: 0.5929 - val_loss: 0.2433 - val_mean_squared_error: 0.2433 - val_acc: 0.5056\n",
      "Epoch 80/200\n",
      "420/420 [==============================] - 0s 33us/step - loss: 0.2264 - mean_squared_error: 0.2264 - acc: 0.5929 - val_loss: 0.2390 - val_mean_squared_error: 0.2390 - val_acc: 0.5056\n",
      "Epoch 81/200\n",
      "420/420 [==============================] - 0s 35us/step - loss: 0.2294 - mean_squared_error: 0.2294 - acc: 0.5929 - val_loss: 0.2386 - val_mean_squared_error: 0.2386 - val_acc: 0.5056\n",
      "Epoch 82/200\n",
      "420/420 [==============================] - 0s 29us/step - loss: 0.2233 - mean_squared_error: 0.2233 - acc: 0.5929 - val_loss: 0.2443 - val_mean_squared_error: 0.2443 - val_acc: 0.5056\n",
      "Epoch 83/200\n",
      "420/420 [==============================] - 0s 33us/step - loss: 0.2336 - mean_squared_error: 0.2336 - acc: 0.5929 - val_loss: 0.2654 - val_mean_squared_error: 0.2654 - val_acc: 0.5056\n"
     ]
    },
    {
     "name": "stdout",
     "output_type": "stream",
     "text": [
      "Epoch 84/200\n",
      "420/420 [==============================] - 0s 28us/step - loss: 0.2433 - mean_squared_error: 0.2433 - acc: 0.5929 - val_loss: 0.2470 - val_mean_squared_error: 0.2470 - val_acc: 0.5056\n",
      "Epoch 85/200\n",
      "420/420 [==============================] - 0s 27us/step - loss: 0.2348 - mean_squared_error: 0.2348 - acc: 0.5929 - val_loss: 0.2491 - val_mean_squared_error: 0.2491 - val_acc: 0.5056\n",
      "Epoch 86/200\n",
      "420/420 [==============================] - 0s 27us/step - loss: 0.2448 - mean_squared_error: 0.2448 - acc: 0.5929 - val_loss: 0.2490 - val_mean_squared_error: 0.2490 - val_acc: 0.5056\n",
      "Epoch 87/200\n",
      "420/420 [==============================] - 0s 28us/step - loss: 0.2448 - mean_squared_error: 0.2448 - acc: 0.5929 - val_loss: 0.2486 - val_mean_squared_error: 0.2486 - val_acc: 0.5056\n",
      "Epoch 88/200\n",
      "420/420 [==============================] - 0s 28us/step - loss: 0.2437 - mean_squared_error: 0.2437 - acc: 0.5857 - val_loss: 0.2401 - val_mean_squared_error: 0.2401 - val_acc: 0.5056\n",
      "Epoch 89/200\n",
      "420/420 [==============================] - 0s 25us/step - loss: 0.2325 - mean_squared_error: 0.2325 - acc: 0.6143 - val_loss: 0.2471 - val_mean_squared_error: 0.2471 - val_acc: 0.5056\n",
      "Epoch 90/200\n",
      "420/420 [==============================] - 0s 25us/step - loss: 0.2317 - mean_squared_error: 0.2317 - acc: 0.5929 - val_loss: 0.2455 - val_mean_squared_error: 0.2455 - val_acc: 0.5056\n",
      "Epoch 91/200\n",
      "420/420 [==============================] - 0s 27us/step - loss: 0.2299 - mean_squared_error: 0.2299 - acc: 0.5952 - val_loss: 0.2400 - val_mean_squared_error: 0.2400 - val_acc: 0.5056\n",
      "Epoch 92/200\n",
      "420/420 [==============================] - 0s 25us/step - loss: 0.2308 - mean_squared_error: 0.2308 - acc: 0.6119 - val_loss: 0.2401 - val_mean_squared_error: 0.2401 - val_acc: 0.5056\n",
      "Epoch 93/200\n",
      "420/420 [==============================] - 0s 26us/step - loss: 0.2300 - mean_squared_error: 0.2300 - acc: 0.5929 - val_loss: 0.2416 - val_mean_squared_error: 0.2416 - val_acc: 0.5056\n",
      "Epoch 94/200\n",
      "420/420 [==============================] - 0s 29us/step - loss: 0.2289 - mean_squared_error: 0.2289 - acc: 0.5929 - val_loss: 0.2415 - val_mean_squared_error: 0.2415 - val_acc: 0.5056\n",
      "Epoch 95/200\n",
      "420/420 [==============================] - 0s 25us/step - loss: 0.2316 - mean_squared_error: 0.2316 - acc: 0.6190 - val_loss: 0.2389 - val_mean_squared_error: 0.2389 - val_acc: 0.5056\n",
      "Epoch 96/200\n",
      "420/420 [==============================] - 0s 28us/step - loss: 0.2299 - mean_squared_error: 0.2299 - acc: 0.6167 - val_loss: 0.2387 - val_mean_squared_error: 0.2387 - val_acc: 0.5056\n",
      "Epoch 97/200\n",
      "420/420 [==============================] - 0s 27us/step - loss: 0.2270 - mean_squared_error: 0.2270 - acc: 0.6500 - val_loss: 0.2401 - val_mean_squared_error: 0.2401 - val_acc: 0.5056\n",
      "Epoch 98/200\n",
      "420/420 [==============================] - 0s 27us/step - loss: 0.2314 - mean_squared_error: 0.2314 - acc: 0.6048 - val_loss: 0.2401 - val_mean_squared_error: 0.2401 - val_acc: 0.5056\n",
      "Epoch 99/200\n",
      "420/420 [==============================] - 0s 25us/step - loss: 0.2228 - mean_squared_error: 0.2228 - acc: 0.6024 - val_loss: 0.2391 - val_mean_squared_error: 0.2391 - val_acc: 0.5056\n",
      "Epoch 100/200\n",
      "420/420 [==============================] - 0s 26us/step - loss: 0.2284 - mean_squared_error: 0.2284 - acc: 0.6024 - val_loss: 0.2368 - val_mean_squared_error: 0.2368 - val_acc: 0.5056\n",
      "Epoch 101/200\n",
      "420/420 [==============================] - 0s 29us/step - loss: 0.2263 - mean_squared_error: 0.2263 - acc: 0.6286 - val_loss: 0.2373 - val_mean_squared_error: 0.2373 - val_acc: 0.5056\n",
      "Epoch 102/200\n",
      "420/420 [==============================] - 0s 26us/step - loss: 0.2286 - mean_squared_error: 0.2286 - acc: 0.6024 - val_loss: 0.2408 - val_mean_squared_error: 0.2408 - val_acc: 0.5056\n",
      "Epoch 103/200\n",
      "420/420 [==============================] - 0s 28us/step - loss: 0.2261 - mean_squared_error: 0.2261 - acc: 0.6048 - val_loss: 0.2349 - val_mean_squared_error: 0.2349 - val_acc: 0.5056\n",
      "Epoch 104/200\n",
      "420/420 [==============================] - 0s 27us/step - loss: 0.2256 - mean_squared_error: 0.2256 - acc: 0.6286 - val_loss: 0.2356 - val_mean_squared_error: 0.2356 - val_acc: 0.5056\n",
      "Epoch 105/200\n",
      "420/420 [==============================] - 0s 29us/step - loss: 0.2277 - mean_squared_error: 0.2277 - acc: 0.6143 - val_loss: 0.2380 - val_mean_squared_error: 0.2380 - val_acc: 0.5056\n",
      "Epoch 106/200\n",
      "420/420 [==============================] - 0s 26us/step - loss: 0.2232 - mean_squared_error: 0.2232 - acc: 0.6190 - val_loss: 0.2360 - val_mean_squared_error: 0.2360 - val_acc: 0.5056\n",
      "Epoch 107/200\n",
      "420/420 [==============================] - 0s 26us/step - loss: 0.2285 - mean_squared_error: 0.2285 - acc: 0.6167 - val_loss: 0.2357 - val_mean_squared_error: 0.2357 - val_acc: 0.5056\n",
      "Epoch 108/200\n",
      "420/420 [==============================] - 0s 26us/step - loss: 0.2242 - mean_squared_error: 0.2242 - acc: 0.6286 - val_loss: 0.2380 - val_mean_squared_error: 0.2380 - val_acc: 0.5056\n",
      "Epoch 109/200\n",
      "420/420 [==============================] - 0s 24us/step - loss: 0.2249 - mean_squared_error: 0.2249 - acc: 0.6238 - val_loss: 0.2387 - val_mean_squared_error: 0.2387 - val_acc: 0.5056\n",
      "Epoch 110/200\n",
      "420/420 [==============================] - 0s 26us/step - loss: 0.2240 - mean_squared_error: 0.2240 - acc: 0.6143 - val_loss: 0.2330 - val_mean_squared_error: 0.2330 - val_acc: 0.5056\n",
      "Epoch 111/200\n",
      "420/420 [==============================] - 0s 27us/step - loss: 0.2232 - mean_squared_error: 0.2232 - acc: 0.6643 - val_loss: 0.2328 - val_mean_squared_error: 0.2328 - val_acc: 0.5056\n",
      "Epoch 112/200\n",
      "420/420 [==============================] - 0s 23us/step - loss: 0.2216 - mean_squared_error: 0.2216 - acc: 0.6571 - val_loss: 0.2359 - val_mean_squared_error: 0.2359 - val_acc: 0.5056\n",
      "Epoch 113/200\n",
      "420/420 [==============================] - 0s 27us/step - loss: 0.2203 - mean_squared_error: 0.2203 - acc: 0.6452 - val_loss: 0.2336 - val_mean_squared_error: 0.2336 - val_acc: 0.5056\n",
      "Epoch 114/200\n",
      "420/420 [==============================] - 0s 28us/step - loss: 0.2178 - mean_squared_error: 0.2178 - acc: 0.6619 - val_loss: 0.2313 - val_mean_squared_error: 0.2313 - val_acc: 0.5056\n",
      "Epoch 115/200\n",
      "420/420 [==============================] - 0s 27us/step - loss: 0.2214 - mean_squared_error: 0.2214 - acc: 0.6238 - val_loss: 0.2340 - val_mean_squared_error: 0.2340 - val_acc: 0.5056\n",
      "Epoch 116/200\n",
      "420/420 [==============================] - 0s 26us/step - loss: 0.2207 - mean_squared_error: 0.2207 - acc: 0.6262 - val_loss: 0.2321 - val_mean_squared_error: 0.2321 - val_acc: 0.5056\n",
      "Epoch 117/200\n",
      "420/420 [==============================] - 0s 26us/step - loss: 0.2174 - mean_squared_error: 0.2174 - acc: 0.6452 - val_loss: 0.2320 - val_mean_squared_error: 0.2320 - val_acc: 0.5056\n",
      "Epoch 118/200\n",
      "420/420 [==============================] - 0s 27us/step - loss: 0.2180 - mean_squared_error: 0.2180 - acc: 0.6381 - val_loss: 0.2342 - val_mean_squared_error: 0.2342 - val_acc: 0.5056\n",
      "Epoch 119/200\n",
      "420/420 [==============================] - 0s 26us/step - loss: 0.2243 - mean_squared_error: 0.2243 - acc: 0.6452 - val_loss: 0.2282 - val_mean_squared_error: 0.2282 - val_acc: 0.5389\n",
      "Epoch 120/200\n",
      "420/420 [==============================] - 0s 26us/step - loss: 0.2206 - mean_squared_error: 0.2206 - acc: 0.6619 - val_loss: 0.2272 - val_mean_squared_error: 0.2272 - val_acc: 0.6000\n",
      "Epoch 121/200\n",
      "420/420 [==============================] - 0s 26us/step - loss: 0.2187 - mean_squared_error: 0.2187 - acc: 0.6548 - val_loss: 0.2305 - val_mean_squared_error: 0.2305 - val_acc: 0.5278\n",
      "Epoch 122/200\n",
      "420/420 [==============================] - 0s 25us/step - loss: 0.2242 - mean_squared_error: 0.2242 - acc: 0.6571 - val_loss: 0.2278 - val_mean_squared_error: 0.2278 - val_acc: 0.5278\n",
      "Epoch 123/200\n",
      "420/420 [==============================] - 0s 26us/step - loss: 0.2220 - mean_squared_error: 0.2220 - acc: 0.7071 - val_loss: 0.2278 - val_mean_squared_error: 0.2278 - val_acc: 0.5444\n",
      "Epoch 124/200\n",
      "420/420 [==============================] - 0s 24us/step - loss: 0.2193 - mean_squared_error: 0.2193 - acc: 0.6762 - val_loss: 0.2350 - val_mean_squared_error: 0.2350 - val_acc: 0.5056\n",
      "Epoch 125/200\n"
     ]
    },
    {
     "name": "stdout",
     "output_type": "stream",
     "text": [
      "420/420 [==============================] - 0s 24us/step - loss: 0.2153 - mean_squared_error: 0.2153 - acc: 0.6310 - val_loss: 0.2250 - val_mean_squared_error: 0.2250 - val_acc: 0.5944\n",
      "Epoch 126/200\n",
      "420/420 [==============================] - 0s 25us/step - loss: 0.2130 - mean_squared_error: 0.2130 - acc: 0.6714 - val_loss: 0.2238 - val_mean_squared_error: 0.2238 - val_acc: 0.7389\n",
      "Epoch 127/200\n",
      "420/420 [==============================] - 0s 26us/step - loss: 0.2169 - mean_squared_error: 0.2169 - acc: 0.6119 - val_loss: 0.2275 - val_mean_squared_error: 0.2275 - val_acc: 0.5389\n",
      "Epoch 128/200\n",
      "420/420 [==============================] - 0s 24us/step - loss: 0.2116 - mean_squared_error: 0.2116 - acc: 0.6452 - val_loss: 0.2263 - val_mean_squared_error: 0.2263 - val_acc: 0.5278\n",
      "Epoch 129/200\n",
      "420/420 [==============================] - 0s 22us/step - loss: 0.2106 - mean_squared_error: 0.2106 - acc: 0.6833 - val_loss: 0.2224 - val_mean_squared_error: 0.2224 - val_acc: 0.5444\n",
      "Epoch 130/200\n",
      "420/420 [==============================] - 0s 26us/step - loss: 0.2143 - mean_squared_error: 0.2143 - acc: 0.7000 - val_loss: 0.2233 - val_mean_squared_error: 0.2233 - val_acc: 0.5278\n",
      "Epoch 131/200\n",
      "420/420 [==============================] - 0s 24us/step - loss: 0.2076 - mean_squared_error: 0.2076 - acc: 0.6619 - val_loss: 0.2300 - val_mean_squared_error: 0.2300 - val_acc: 0.5056\n",
      "Epoch 132/200\n",
      "420/420 [==============================] - 0s 25us/step - loss: 0.2159 - mean_squared_error: 0.2159 - acc: 0.6429 - val_loss: 0.2205 - val_mean_squared_error: 0.2205 - val_acc: 0.5556\n",
      "Epoch 133/200\n",
      "420/420 [==============================] - 0s 27us/step - loss: 0.2104 - mean_squared_error: 0.2104 - acc: 0.6952 - val_loss: 0.2205 - val_mean_squared_error: 0.2205 - val_acc: 0.5444\n",
      "Epoch 134/200\n",
      "420/420 [==============================] - 0s 25us/step - loss: 0.2049 - mean_squared_error: 0.2049 - acc: 0.6833 - val_loss: 0.2213 - val_mean_squared_error: 0.2213 - val_acc: 0.5278\n",
      "Epoch 135/200\n",
      "420/420 [==============================] - 0s 25us/step - loss: 0.2043 - mean_squared_error: 0.2043 - acc: 0.6762 - val_loss: 0.2196 - val_mean_squared_error: 0.2196 - val_acc: 0.5500\n",
      "Epoch 136/200\n",
      "420/420 [==============================] - 0s 27us/step - loss: 0.2113 - mean_squared_error: 0.2113 - acc: 0.6571 - val_loss: 0.2190 - val_mean_squared_error: 0.2190 - val_acc: 0.5722\n",
      "Epoch 137/200\n",
      "420/420 [==============================] - 0s 27us/step - loss: 0.2097 - mean_squared_error: 0.2097 - acc: 0.6738 - val_loss: 0.2184 - val_mean_squared_error: 0.2184 - val_acc: 0.5444\n",
      "Epoch 138/200\n",
      "420/420 [==============================] - 0s 25us/step - loss: 0.2031 - mean_squared_error: 0.2031 - acc: 0.6976 - val_loss: 0.2148 - val_mean_squared_error: 0.2148 - val_acc: 0.6167\n",
      "Epoch 139/200\n",
      "420/420 [==============================] - 0s 27us/step - loss: 0.1998 - mean_squared_error: 0.1998 - acc: 0.6857 - val_loss: 0.2243 - val_mean_squared_error: 0.2243 - val_acc: 0.5389\n",
      "Epoch 140/200\n",
      "420/420 [==============================] - 0s 24us/step - loss: 0.2042 - mean_squared_error: 0.2042 - acc: 0.6690 - val_loss: 0.2175 - val_mean_squared_error: 0.2175 - val_acc: 0.5722\n",
      "Epoch 141/200\n",
      "420/420 [==============================] - 0s 28us/step - loss: 0.1983 - mean_squared_error: 0.1983 - acc: 0.7095 - val_loss: 0.2115 - val_mean_squared_error: 0.2115 - val_acc: 0.6833\n",
      "Epoch 142/200\n",
      "420/420 [==============================] - 0s 26us/step - loss: 0.2082 - mean_squared_error: 0.2082 - acc: 0.6786 - val_loss: 0.2189 - val_mean_squared_error: 0.2189 - val_acc: 0.5944\n",
      "Epoch 143/200\n",
      "420/420 [==============================] - 0s 31us/step - loss: 0.2054 - mean_squared_error: 0.2054 - acc: 0.6452 - val_loss: 0.2168 - val_mean_squared_error: 0.2168 - val_acc: 0.5556\n",
      "Epoch 144/200\n",
      "420/420 [==============================] - 0s 29us/step - loss: 0.1970 - mean_squared_error: 0.1970 - acc: 0.6857 - val_loss: 0.2165 - val_mean_squared_error: 0.2165 - val_acc: 0.5556\n",
      "Epoch 145/200\n",
      "420/420 [==============================] - 0s 27us/step - loss: 0.2014 - mean_squared_error: 0.2014 - acc: 0.6786 - val_loss: 0.2213 - val_mean_squared_error: 0.2213 - val_acc: 0.6889\n",
      "Epoch 146/200\n",
      "420/420 [==============================] - 0s 26us/step - loss: 0.2059 - mean_squared_error: 0.2059 - acc: 0.6881 - val_loss: 0.2206 - val_mean_squared_error: 0.2206 - val_acc: 0.5278\n",
      "Epoch 147/200\n",
      "420/420 [==============================] - ETA: 0s - loss: 0.2251 - mean_squared_error: 0.2251 - acc: 0.57 - 0s 28us/step - loss: 0.2036 - mean_squared_error: 0.2036 - acc: 0.6452 - val_loss: 0.2078 - val_mean_squared_error: 0.2078 - val_acc: 0.6389\n",
      "Epoch 148/200\n",
      "420/420 [==============================] - 0s 25us/step - loss: 0.1978 - mean_squared_error: 0.1978 - acc: 0.7214 - val_loss: 0.2075 - val_mean_squared_error: 0.2075 - val_acc: 0.6833\n",
      "Epoch 149/200\n",
      "420/420 [==============================] - 0s 25us/step - loss: 0.2021 - mean_squared_error: 0.2021 - acc: 0.6881 - val_loss: 0.2073 - val_mean_squared_error: 0.2073 - val_acc: 0.7000\n",
      "Epoch 150/200\n",
      "420/420 [==============================] - 0s 27us/step - loss: 0.1996 - mean_squared_error: 0.1996 - acc: 0.7143 - val_loss: 0.2101 - val_mean_squared_error: 0.2101 - val_acc: 0.6778\n",
      "Epoch 151/200\n",
      "420/420 [==============================] - 0s 26us/step - loss: 0.1955 - mean_squared_error: 0.1955 - acc: 0.7262 - val_loss: 0.2179 - val_mean_squared_error: 0.2179 - val_acc: 0.5389\n",
      "Epoch 152/200\n",
      "420/420 [==============================] - 0s 25us/step - loss: 0.1951 - mean_squared_error: 0.1951 - acc: 0.6929 - val_loss: 0.2072 - val_mean_squared_error: 0.2072 - val_acc: 0.8667\n",
      "Epoch 153/200\n",
      "420/420 [==============================] - 0s 25us/step - loss: 0.1954 - mean_squared_error: 0.1954 - acc: 0.7143 - val_loss: 0.2033 - val_mean_squared_error: 0.2033 - val_acc: 0.6389\n",
      "Epoch 154/200\n",
      "420/420 [==============================] - 0s 27us/step - loss: 0.1945 - mean_squared_error: 0.1945 - acc: 0.6762 - val_loss: 0.2111 - val_mean_squared_error: 0.2111 - val_acc: 0.5778\n",
      "Epoch 155/200\n",
      "420/420 [==============================] - 0s 27us/step - loss: 0.1894 - mean_squared_error: 0.1894 - acc: 0.6976 - val_loss: 0.2026 - val_mean_squared_error: 0.2026 - val_acc: 0.8444\n",
      "Epoch 156/200\n",
      "420/420 [==============================] - 0s 26us/step - loss: 0.1964 - mean_squared_error: 0.1964 - acc: 0.6976 - val_loss: 0.2103 - val_mean_squared_error: 0.2103 - val_acc: 0.5778\n",
      "Epoch 157/200\n",
      "420/420 [==============================] - 0s 26us/step - loss: 0.1976 - mean_squared_error: 0.1976 - acc: 0.6714 - val_loss: 0.2086 - val_mean_squared_error: 0.2086 - val_acc: 0.5778\n",
      "Epoch 158/200\n",
      "420/420 [==============================] - 0s 26us/step - loss: 0.1874 - mean_squared_error: 0.1874 - acc: 0.7619 - val_loss: 0.2070 - val_mean_squared_error: 0.2070 - val_acc: 0.9222\n",
      "Epoch 159/200\n",
      "420/420 [==============================] - 0s 25us/step - loss: 0.1915 - mean_squared_error: 0.1915 - acc: 0.7048 - val_loss: 0.2132 - val_mean_squared_error: 0.2132 - val_acc: 0.5556\n",
      "Epoch 160/200\n",
      "420/420 [==============================] - 0s 24us/step - loss: 0.2012 - mean_squared_error: 0.2012 - acc: 0.6833 - val_loss: 0.2008 - val_mean_squared_error: 0.2008 - val_acc: 0.6389\n",
      "Epoch 161/200\n",
      "420/420 [==============================] - 0s 25us/step - loss: 0.1926 - mean_squared_error: 0.1926 - acc: 0.7405 - val_loss: 0.1939 - val_mean_squared_error: 0.1939 - val_acc: 0.7722\n",
      "Epoch 162/200\n",
      "420/420 [==============================] - 0s 25us/step - loss: 0.1904 - mean_squared_error: 0.1904 - acc: 0.7333 - val_loss: 0.2110 - val_mean_squared_error: 0.2110 - val_acc: 0.5444\n",
      "Epoch 163/200\n",
      "420/420 [==============================] - 0s 27us/step - loss: 0.1894 - mean_squared_error: 0.1894 - acc: 0.6762 - val_loss: 0.2039 - val_mean_squared_error: 0.2039 - val_acc: 0.5778\n",
      "Epoch 164/200\n",
      "420/420 [==============================] - 0s 23us/step - loss: 0.1860 - mean_squared_error: 0.1860 - acc: 0.6952 - val_loss: 0.2611 - val_mean_squared_error: 0.2611 - val_acc: 0.5056\n",
      "Epoch 165/200\n",
      "420/420 [==============================] - 0s 25us/step - loss: 0.2094 - mean_squared_error: 0.2094 - acc: 0.6571 - val_loss: 0.1949 - val_mean_squared_error: 0.1949 - val_acc: 0.8889\n",
      "Epoch 166/200\n"
     ]
    },
    {
     "name": "stdout",
     "output_type": "stream",
     "text": [
      "420/420 [==============================] - 0s 26us/step - loss: 0.2093 - mean_squared_error: 0.2093 - acc: 0.6238 - val_loss: 0.2265 - val_mean_squared_error: 0.2265 - val_acc: 0.7167\n",
      "Epoch 167/200\n",
      "420/420 [==============================] - 0s 24us/step - loss: 0.2318 - mean_squared_error: 0.2318 - acc: 0.5643 - val_loss: 0.2308 - val_mean_squared_error: 0.2308 - val_acc: 0.5500\n",
      "Epoch 168/200\n",
      "420/420 [==============================] - 0s 23us/step - loss: 0.2309 - mean_squared_error: 0.2309 - acc: 0.6071 - val_loss: 0.2380 - val_mean_squared_error: 0.2380 - val_acc: 0.7056\n",
      "Epoch 169/200\n",
      "420/420 [==============================] - 0s 26us/step - loss: 0.2316 - mean_squared_error: 0.2316 - acc: 0.6738 - val_loss: 0.2308 - val_mean_squared_error: 0.2308 - val_acc: 0.5111\n",
      "Epoch 170/200\n",
      "420/420 [==============================] - 0s 24us/step - loss: 0.2072 - mean_squared_error: 0.2072 - acc: 0.6214 - val_loss: 0.2310 - val_mean_squared_error: 0.2310 - val_acc: 0.5056\n",
      "Epoch 171/200\n",
      "420/420 [==============================] - 0s 23us/step - loss: 0.2087 - mean_squared_error: 0.2087 - acc: 0.6119 - val_loss: 0.2118 - val_mean_squared_error: 0.2118 - val_acc: 0.5389\n",
      "Epoch 172/200\n",
      "420/420 [==============================] - 0s 24us/step - loss: 0.1806 - mean_squared_error: 0.1806 - acc: 0.7310 - val_loss: 0.1891 - val_mean_squared_error: 0.1891 - val_acc: 0.8000\n",
      "Epoch 173/200\n",
      "420/420 [==============================] - 0s 26us/step - loss: 0.1831 - mean_squared_error: 0.1831 - acc: 0.7476 - val_loss: 0.1945 - val_mean_squared_error: 0.1945 - val_acc: 0.6389\n",
      "Epoch 174/200\n",
      "420/420 [==============================] - 0s 25us/step - loss: 0.1974 - mean_squared_error: 0.1974 - acc: 0.6619 - val_loss: 0.1859 - val_mean_squared_error: 0.1859 - val_acc: 0.7444\n",
      "Epoch 175/200\n",
      "420/420 [==============================] - 0s 25us/step - loss: 0.1893 - mean_squared_error: 0.1893 - acc: 0.7048 - val_loss: 0.1845 - val_mean_squared_error: 0.1845 - val_acc: 0.7722\n",
      "Epoch 176/200\n",
      "420/420 [==============================] - 0s 26us/step - loss: 0.1843 - mean_squared_error: 0.1843 - acc: 0.7310 - val_loss: 0.1935 - val_mean_squared_error: 0.1935 - val_acc: 0.6389\n",
      "Epoch 177/200\n",
      "420/420 [==============================] - 0s 26us/step - loss: 0.1728 - mean_squared_error: 0.1728 - acc: 0.7429 - val_loss: 0.1857 - val_mean_squared_error: 0.1857 - val_acc: 0.9778\n",
      "Epoch 178/200\n",
      "420/420 [==============================] - 0s 26us/step - loss: 0.1784 - mean_squared_error: 0.1784 - acc: 0.7476 - val_loss: 0.2010 - val_mean_squared_error: 0.2010 - val_acc: 0.6056\n",
      "Epoch 179/200\n",
      "420/420 [==============================] - 0s 26us/step - loss: 0.1711 - mean_squared_error: 0.1711 - acc: 0.7429 - val_loss: 0.1825 - val_mean_squared_error: 0.1825 - val_acc: 0.8389\n",
      "Epoch 180/200\n",
      "420/420 [==============================] - 0s 23us/step - loss: 0.1745 - mean_squared_error: 0.1745 - acc: 0.7643 - val_loss: 0.1812 - val_mean_squared_error: 0.1812 - val_acc: 0.7611\n",
      "Epoch 181/200\n",
      "420/420 [==============================] - 0s 24us/step - loss: 0.1748 - mean_squared_error: 0.1748 - acc: 0.7357 - val_loss: 0.1819 - val_mean_squared_error: 0.1819 - val_acc: 0.7389\n",
      "Epoch 182/200\n",
      "420/420 [==============================] - 0s 25us/step - loss: 0.1778 - mean_squared_error: 0.1778 - acc: 0.7571 - val_loss: 0.1809 - val_mean_squared_error: 0.1809 - val_acc: 0.7611\n",
      "Epoch 183/200\n",
      "420/420 [==============================] - 0s 25us/step - loss: 0.1682 - mean_squared_error: 0.1682 - acc: 0.7643 - val_loss: 0.1875 - val_mean_squared_error: 0.1875 - val_acc: 0.6833\n",
      "Epoch 184/200\n",
      "420/420 [==============================] - 0s 25us/step - loss: 0.1701 - mean_squared_error: 0.1701 - acc: 0.7619 - val_loss: 0.1762 - val_mean_squared_error: 0.1762 - val_acc: 0.9056\n",
      "Epoch 185/200\n",
      "420/420 [==============================] - 0s 28us/step - loss: 0.2007 - mean_squared_error: 0.2007 - acc: 0.7357 - val_loss: 0.2729 - val_mean_squared_error: 0.2729 - val_acc: 0.5056\n",
      "Epoch 186/200\n",
      "420/420 [==============================] - 0s 29us/step - loss: 0.2228 - mean_squared_error: 0.2228 - acc: 0.6381 - val_loss: 0.1909 - val_mean_squared_error: 0.1909 - val_acc: 0.9778\n",
      "Epoch 187/200\n",
      "420/420 [==============================] - 0s 25us/step - loss: 0.2048 - mean_squared_error: 0.2048 - acc: 0.6595 - val_loss: 0.1736 - val_mean_squared_error: 0.1736 - val_acc: 0.9944\n",
      "Epoch 188/200\n",
      "420/420 [==============================] - 0s 30us/step - loss: 0.1806 - mean_squared_error: 0.1806 - acc: 0.6976 - val_loss: 0.2004 - val_mean_squared_error: 0.2004 - val_acc: 0.5944\n",
      "Epoch 189/200\n",
      "420/420 [==============================] - 0s 27us/step - loss: 0.1805 - mean_squared_error: 0.1805 - acc: 0.7119 - val_loss: 0.1747 - val_mean_squared_error: 0.1747 - val_acc: 0.9056\n",
      "Epoch 190/200\n",
      "420/420 [==============================] - 0s 26us/step - loss: 0.1741 - mean_squared_error: 0.1741 - acc: 0.7548 - val_loss: 0.1783 - val_mean_squared_error: 0.1783 - val_acc: 0.7611\n",
      "Epoch 191/200\n",
      "420/420 [==============================] - 0s 25us/step - loss: 0.1667 - mean_squared_error: 0.1667 - acc: 0.7881 - val_loss: 0.1802 - val_mean_squared_error: 0.1802 - val_acc: 0.7444\n",
      "Epoch 192/200\n",
      "420/420 [==============================] - 0s 26us/step - loss: 0.1666 - mean_squared_error: 0.1666 - acc: 0.7786 - val_loss: 0.1755 - val_mean_squared_error: 0.1755 - val_acc: 0.7611\n",
      "Epoch 193/200\n",
      "420/420 [==============================] - 0s 23us/step - loss: 0.1624 - mean_squared_error: 0.1624 - acc: 0.7810 - val_loss: 0.1744 - val_mean_squared_error: 0.1744 - val_acc: 0.7444\n",
      "Epoch 194/200\n",
      "420/420 [==============================] - 0s 26us/step - loss: 0.1584 - mean_squared_error: 0.1584 - acc: 0.7857 - val_loss: 0.1690 - val_mean_squared_error: 0.1690 - val_acc: 0.8667\n",
      "Epoch 195/200\n",
      "420/420 [==============================] - 0s 26us/step - loss: 0.1629 - mean_squared_error: 0.1629 - acc: 0.7643 - val_loss: 0.1717 - val_mean_squared_error: 0.1717 - val_acc: 0.7444\n",
      "Epoch 196/200\n",
      "420/420 [==============================] - 0s 23us/step - loss: 0.1599 - mean_squared_error: 0.1599 - acc: 0.7905 - val_loss: 0.1702 - val_mean_squared_error: 0.1702 - val_acc: 0.7944\n",
      "Epoch 197/200\n",
      "420/420 [==============================] - 0s 27us/step - loss: 0.1616 - mean_squared_error: 0.1616 - acc: 0.7595 - val_loss: 0.1733 - val_mean_squared_error: 0.1733 - val_acc: 0.7389\n",
      "Epoch 198/200\n",
      "420/420 [==============================] - 0s 26us/step - loss: 0.1587 - mean_squared_error: 0.1587 - acc: 0.7952 - val_loss: 0.1653 - val_mean_squared_error: 0.1653 - val_acc: 0.9000\n",
      "Epoch 199/200\n",
      "420/420 [==============================] - 0s 25us/step - loss: 0.1635 - mean_squared_error: 0.1635 - acc: 0.7810 - val_loss: 0.1658 - val_mean_squared_error: 0.1658 - val_acc: 0.8056\n",
      "Epoch 200/200\n",
      "420/420 [==============================] - 0s 25us/step - loss: 0.1562 - mean_squared_error: 0.1562 - acc: 0.8095 - val_loss: 0.1640 - val_mean_squared_error: 0.1640 - val_acc: 0.8556\n"
     ]
    }
   ],
   "source": [
    "history=model.fit(X_train, y_train, epochs=200, batch_size=128, validation_split=0.3)"
   ]
  },
  {
   "cell_type": "code",
   "execution_count": 22,
   "metadata": {},
   "outputs": [
    {
     "data": {
      "image/png": "[encoded data removed]",
      "text/plain": [
       "<Figure size 432x288 with 1 Axes>"
      ]
     },
     "metadata": {
      "needs_background": "light"
     },
     "output_type": "display_data"
    }
   ],
   "source": [
    "plt.yscale('log')\n",
    "plt.plot(history.history['mean_squared_error'] ,ms=5,marker='o',label='mse')\n",
    "plt.plot(history.history['val_mean_squared_error'] ,ms=5,marker='o',label='val mse')\n",
    "plt.legend()\n",
    "plt.show()"
   ]
  },
  {
   "cell_type": "code",
   "execution_count": 23,
   "metadata": {},
   "outputs": [
    {
     "data": {
      "image/png": "[encoded data removed]",
      "text/plain": [
       "<Figure size 432x288 with 1 Axes>"
      ]
     },
     "metadata": {
      "needs_background": "light"
     },
     "output_type": "display_data"
    }
   ],
   "source": [
    "plt.yscale('log')\n",
    "plt.plot(history.history['acc'] ,ms=5,marker='o',label='acc')\n",
    "plt.plot(history.history['val_acc'] ,ms=5,marker='o',label='val acc')\n",
    "plt.legend()\n",
    "plt.show()"
   ]
  },
  {
   "cell_type": "code",
   "execution_count": 24,
   "metadata": {},
   "outputs": [],
   "source": [
    "from sklearn.metrics import accuracy_score\n",
    "\n",
    "y_pred = model.predict(X_test)  # 輸出為機率\n",
    "y_pred = np.where(y_pred > 0.5, 1, 0)  # 機率轉換為(1, 0)"
   ]
  },
  {
   "cell_type": "code",
   "execution_count": 25,
   "metadata": {},
   "outputs": [
    {
     "data": {
      "text/plain": [
       "0.7098445595854922"
      ]
     },
     "execution_count": 25,
     "metadata": {},
     "output_type": "execute_result"
    }
   ],
   "source": [
    "accuracy_score(y_test, y_pred)"
   ]
  },
  {
   "cell_type": "code",
   "execution_count": null,
   "metadata": {},
   "outputs": [],
   "source": []
  }
 ],
 "metadata": {
  "kernelspec": {
   "display_name": "tensorflow",
   "language": "python",
   "name": "tensorflow"
  },
  "language_info": {
   "codemirror_mode": {
    "name": "ipython",
    "version": 3
   },
   "file_extension": ".py",
   "mimetype": "text/x-python",
   "name": "python",
   "nbconvert_exporter": "python",
   "pygments_lexer": "ipython3",
   "version": "3.6.8"
  }
 },
 "nbformat": 4,
 "nbformat_minor": 2
}
